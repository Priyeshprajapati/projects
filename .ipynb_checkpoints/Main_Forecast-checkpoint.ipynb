{
 "cells": [
  {
   "cell_type": "code",
   "execution_count": 1,
   "metadata": {},
   "outputs": [],
   "source": [
    "from bs4 import BeautifulSoup\n",
    "import urllib.request               \n",
    "from time import sleep\n",
    "from datetime import datetime\n",
    "import pandas as pd\n",
    "import requests\n",
    "import re\n",
    "from datetime import date\n",
    "#importind required libraries\n",
    "%matplotlib inline\n",
    "import numpy as np\n",
    "import matplotlib.pyplot as plt\n",
    "import seaborn as sb"
   ]
  },
  {
   "cell_type": "code",
   "execution_count": 2,
   "metadata": {},
   "outputs": [],
   "source": [
    "def getweather():\n",
    "    weather = []\n",
    "    url = \"https://weather.com/en-IN/weather/today/l/0fcc6b573ec19677819071ea104e175b6dfc8f942f59554bc99d10c5cd0dbfe8\"\n",
    "    day = date.today().day\n",
    "    weather.append(day)\n",
    "    month = date.today().month\n",
    "    weather.append(month)\n",
    "    year = date.today().year\n",
    "    weather.append(year)\n",
    "    \n",
    "    page = requests.get(url)\n",
    "\n",
    "    soup = BeautifulSoup(page.content, 'html.parser')\n",
    "\n",
    "    temp = soup.find(\"div\",{\"class\":\"today_nowcard-temp\"}).text[:-1]\n",
    "\n",
    "    time = soup.find(\"p\",{\"class\":\"today_nowcard-timestamp\"}).text[6:]\n",
    "    weather.append(time)\n",
    "    weather.append(temp)\n",
    "    condition = soup.find(\"div\",class_=\"today_nowcard-phrase\").text\n",
    "    weather.append(condition)\n",
    "    high = soup.find_all(\"span\",class_=\"deg-hilo-nowcard\")[0].text[:-1]\n",
    "\n",
    "    low = soup.find_all(\"span\",class_=\"deg-hilo-nowcard\")[1].text[:-1]\n",
    "    weather.append(high)\n",
    "    weather.append(low)\n",
    "    rightnow = soup.find(\"div\",class_=\"today_nowcard-sidecar component panel\").find(\"table\")\n",
    "\n",
    "    wind = rightnow.find_all(\"tr\")[0].find(\"span\").text\n",
    "    weather.append(wind)\n",
    "    Humidity = rightnow.find_all(\"tr\")[1].find(\"span\").text[:-1]\n",
    "    weather.append(Humidity)\n",
    "    dew = rightnow.find_all(\"tr\")[2].find(\"span\").text[:-1]\n",
    "    weather.append(dew)\n",
    "    pressure = rightnow.find_all(\"tr\")[3].find(\"span\").text[:-3]\n",
    "    pressure = pressure.replace(',', '')\n",
    "    weather.append(pressure)\n",
    "    visibility = rightnow.find_all(\"tr\")[4].find(\"span\").text\n",
    "    weather.append(visibility)\n",
    "    if(int(temp)>=30):\n",
    "        heat = \"YES\"\n",
    "    else:\n",
    "        heat = \"NO\"\n",
    "    weather.append(heat)\n",
    "    if(int(Humidity)>=80):\n",
    "        wet = \"YES\"\n",
    "    else:\n",
    "        wet = \"NO\"\n",
    "    weather.append(wet)\n",
    "    print(\"Day : \",day)\n",
    "    print(\"Month : \",month)\n",
    "    print(\"Year : \",year)\n",
    "    print(\"Time : \",time)\n",
    "    print(\"Temperature : \",temp)\n",
    "    print(\"Condition : \",condition)\n",
    "    print(\"High/Low : {}/{}\".format(high,low))\n",
    "    print(\"Wind : \",wind)\n",
    "    print(\"Humidity : \",Humidity)\n",
    "    print(\"Dew Point : \",dew)\n",
    "    print(\"Pressure : \",pressure)\n",
    "    print(\"Visibility : \",visibility)\n",
    "    print(\"Heat : \",heat)\n",
    "    print(\"Wet : \",wet)\n",
    "    return weather\n"
   ]
  },
  {
   "cell_type": "code",
   "execution_count": 3,
   "metadata": {},
   "outputs": [],
   "source": [
    "#getweather()\n"
   ]
  },
  {
   "cell_type": "code",
   "execution_count": 4,
   "metadata": {},
   "outputs": [],
   "source": [
    "import csv\n",
    "import openpyxl\n",
    "import sys\n",
    "\n",
    "def main():\n",
    "    print(\"Collecting  Weather Data in a intervals of 30 mins\")\n",
    "    idx = 0\n",
    "    weatherdata = {'Day':[],'Month':[],'Year':[],'mean_temp':[],'max_temp':[],'min_temp':[],'meanhum':[],'meandew':[],'pressure':[],'heat':[],'wet':[]}\n",
    "    filename = 'data.xlsx'\n",
    "    wb = openpyxl.load_workbook(filename=filename)\n",
    "    sheet = wb['Sheet1']\n",
    "    #new_row = ['Day','Month','Year','mean_temp','max_temp','min_temp','meanhum','meandew','pressure','heat','wet']\n",
    "    #sheet.append(new_row)\n",
    "    while idx < 1:\n",
    "        print('collecting weather data '+str(idx))\n",
    "        tmp = getweather()\n",
    "        weatherdata['Day'].append(tmp[0])\n",
    "        weatherdata['Month'].append(tmp[1])\n",
    "        weatherdata['Year'].append(tmp[2])\n",
    "        weatherdata['mean_temp'].append(tmp[4])\n",
    "        weatherdata['max_temp'].append(tmp[6])\n",
    "        weatherdata['min_temp'].append(tmp[7])\n",
    "        weatherdata['meanhum'].append(tmp[9])\n",
    "        weatherdata['meandew'].append(tmp[10])\n",
    "        weatherdata['pressure'].append(tmp[11])\n",
    "        weatherdata['heat'].append(tmp[13])\n",
    "        weatherdata['wet'].append(tmp[14])\n",
    "        \n",
    "        try :\n",
    "            new_row = [int(tmp[0]),int(tmp[1]),int(tmp[2]),float(tmp[4]),float(tmp[6]),float(tmp[7]),float(tmp[9]),float(tmp[10]),float(tmp[11]),tmp[13],tmp[14]]\n",
    "            sheet.append(new_row)\n",
    "        except ValueError as e:\n",
    "            print (e)\n",
    "        idx+=1\n",
    "    wb.save(filename)\n",
    "    \n",
    "    print(weatherdata)"
   ]
  },
  {
   "cell_type": "code",
   "execution_count": 5,
   "metadata": {
    "scrolled": true
   },
   "outputs": [
    {
     "name": "stdout",
     "output_type": "stream",
     "text": [
      "Collecting  Weather Data in a intervals of 30 mins\n"
     ]
    },
    {
     "ename": "FileNotFoundError",
     "evalue": "[Errno 2] No such file or directory: 'data.xlsx'",
     "output_type": "error",
     "traceback": [
      "\u001b[1;31m---------------------------------------------------------------------------\u001b[0m",
      "\u001b[1;31mFileNotFoundError\u001b[0m                         Traceback (most recent call last)",
      "\u001b[1;32m~\\AppData\\Local\\Temp/ipykernel_22172/451043146.py\u001b[0m in \u001b[0;36m<module>\u001b[1;34m\u001b[0m\n\u001b[1;32m----> 1\u001b[1;33m \u001b[0mmain\u001b[0m\u001b[1;33m(\u001b[0m\u001b[1;33m)\u001b[0m\u001b[1;33m\u001b[0m\u001b[1;33m\u001b[0m\u001b[0m\n\u001b[0m",
      "\u001b[1;32m~\\AppData\\Local\\Temp/ipykernel_22172/2906945933.py\u001b[0m in \u001b[0;36mmain\u001b[1;34m()\u001b[0m\n\u001b[0;32m      8\u001b[0m     \u001b[0mweatherdata\u001b[0m \u001b[1;33m=\u001b[0m \u001b[1;33m{\u001b[0m\u001b[1;34m'Day'\u001b[0m\u001b[1;33m:\u001b[0m\u001b[1;33m[\u001b[0m\u001b[1;33m]\u001b[0m\u001b[1;33m,\u001b[0m\u001b[1;34m'Month'\u001b[0m\u001b[1;33m:\u001b[0m\u001b[1;33m[\u001b[0m\u001b[1;33m]\u001b[0m\u001b[1;33m,\u001b[0m\u001b[1;34m'Year'\u001b[0m\u001b[1;33m:\u001b[0m\u001b[1;33m[\u001b[0m\u001b[1;33m]\u001b[0m\u001b[1;33m,\u001b[0m\u001b[1;34m'mean_temp'\u001b[0m\u001b[1;33m:\u001b[0m\u001b[1;33m[\u001b[0m\u001b[1;33m]\u001b[0m\u001b[1;33m,\u001b[0m\u001b[1;34m'max_temp'\u001b[0m\u001b[1;33m:\u001b[0m\u001b[1;33m[\u001b[0m\u001b[1;33m]\u001b[0m\u001b[1;33m,\u001b[0m\u001b[1;34m'min_temp'\u001b[0m\u001b[1;33m:\u001b[0m\u001b[1;33m[\u001b[0m\u001b[1;33m]\u001b[0m\u001b[1;33m,\u001b[0m\u001b[1;34m'meanhum'\u001b[0m\u001b[1;33m:\u001b[0m\u001b[1;33m[\u001b[0m\u001b[1;33m]\u001b[0m\u001b[1;33m,\u001b[0m\u001b[1;34m'meandew'\u001b[0m\u001b[1;33m:\u001b[0m\u001b[1;33m[\u001b[0m\u001b[1;33m]\u001b[0m\u001b[1;33m,\u001b[0m\u001b[1;34m'pressure'\u001b[0m\u001b[1;33m:\u001b[0m\u001b[1;33m[\u001b[0m\u001b[1;33m]\u001b[0m\u001b[1;33m,\u001b[0m\u001b[1;34m'heat'\u001b[0m\u001b[1;33m:\u001b[0m\u001b[1;33m[\u001b[0m\u001b[1;33m]\u001b[0m\u001b[1;33m,\u001b[0m\u001b[1;34m'wet'\u001b[0m\u001b[1;33m:\u001b[0m\u001b[1;33m[\u001b[0m\u001b[1;33m]\u001b[0m\u001b[1;33m}\u001b[0m\u001b[1;33m\u001b[0m\u001b[1;33m\u001b[0m\u001b[0m\n\u001b[0;32m      9\u001b[0m     \u001b[0mfilename\u001b[0m \u001b[1;33m=\u001b[0m \u001b[1;34m'data.xlsx'\u001b[0m\u001b[1;33m\u001b[0m\u001b[1;33m\u001b[0m\u001b[0m\n\u001b[1;32m---> 10\u001b[1;33m     \u001b[0mwb\u001b[0m \u001b[1;33m=\u001b[0m \u001b[0mopenpyxl\u001b[0m\u001b[1;33m.\u001b[0m\u001b[0mload_workbook\u001b[0m\u001b[1;33m(\u001b[0m\u001b[0mfilename\u001b[0m\u001b[1;33m=\u001b[0m\u001b[0mfilename\u001b[0m\u001b[1;33m)\u001b[0m\u001b[1;33m\u001b[0m\u001b[1;33m\u001b[0m\u001b[0m\n\u001b[0m\u001b[0;32m     11\u001b[0m     \u001b[0msheet\u001b[0m \u001b[1;33m=\u001b[0m \u001b[0mwb\u001b[0m\u001b[1;33m[\u001b[0m\u001b[1;34m'Sheet1'\u001b[0m\u001b[1;33m]\u001b[0m\u001b[1;33m\u001b[0m\u001b[1;33m\u001b[0m\u001b[0m\n\u001b[0;32m     12\u001b[0m     \u001b[1;31m#new_row = ['Day','Month','Year','mean_temp','max_temp','min_temp','meanhum','meandew','pressure','heat','wet']\u001b[0m\u001b[1;33m\u001b[0m\u001b[1;33m\u001b[0m\u001b[1;33m\u001b[0m\u001b[0m\n",
      "\u001b[1;32mc:\\users\\dell\\appdata\\local\\programs\\python\\python39\\lib\\site-packages\\openpyxl\\reader\\excel.py\u001b[0m in \u001b[0;36mload_workbook\u001b[1;34m(filename, read_only, keep_vba, data_only, keep_links)\u001b[0m\n\u001b[0;32m    313\u001b[0m \u001b[1;33m\u001b[0m\u001b[0m\n\u001b[0;32m    314\u001b[0m     \"\"\"\n\u001b[1;32m--> 315\u001b[1;33m     reader = ExcelReader(filename, read_only, keep_vba,\n\u001b[0m\u001b[0;32m    316\u001b[0m                         data_only, keep_links)\n\u001b[0;32m    317\u001b[0m     \u001b[0mreader\u001b[0m\u001b[1;33m.\u001b[0m\u001b[0mread\u001b[0m\u001b[1;33m(\u001b[0m\u001b[1;33m)\u001b[0m\u001b[1;33m\u001b[0m\u001b[1;33m\u001b[0m\u001b[0m\n",
      "\u001b[1;32mc:\\users\\dell\\appdata\\local\\programs\\python\\python39\\lib\\site-packages\\openpyxl\\reader\\excel.py\u001b[0m in \u001b[0;36m__init__\u001b[1;34m(self, fn, read_only, keep_vba, data_only, keep_links)\u001b[0m\n\u001b[0;32m    122\u001b[0m     def __init__(self,  fn, read_only=False, keep_vba=KEEP_VBA,\n\u001b[0;32m    123\u001b[0m                   data_only=False, keep_links=True):\n\u001b[1;32m--> 124\u001b[1;33m         \u001b[0mself\u001b[0m\u001b[1;33m.\u001b[0m\u001b[0marchive\u001b[0m \u001b[1;33m=\u001b[0m \u001b[0m_validate_archive\u001b[0m\u001b[1;33m(\u001b[0m\u001b[0mfn\u001b[0m\u001b[1;33m)\u001b[0m\u001b[1;33m\u001b[0m\u001b[1;33m\u001b[0m\u001b[0m\n\u001b[0m\u001b[0;32m    125\u001b[0m         \u001b[0mself\u001b[0m\u001b[1;33m.\u001b[0m\u001b[0mvalid_files\u001b[0m \u001b[1;33m=\u001b[0m \u001b[0mself\u001b[0m\u001b[1;33m.\u001b[0m\u001b[0marchive\u001b[0m\u001b[1;33m.\u001b[0m\u001b[0mnamelist\u001b[0m\u001b[1;33m(\u001b[0m\u001b[1;33m)\u001b[0m\u001b[1;33m\u001b[0m\u001b[1;33m\u001b[0m\u001b[0m\n\u001b[0;32m    126\u001b[0m         \u001b[0mself\u001b[0m\u001b[1;33m.\u001b[0m\u001b[0mread_only\u001b[0m \u001b[1;33m=\u001b[0m \u001b[0mread_only\u001b[0m\u001b[1;33m\u001b[0m\u001b[1;33m\u001b[0m\u001b[0m\n",
      "\u001b[1;32mc:\\users\\dell\\appdata\\local\\programs\\python\\python39\\lib\\site-packages\\openpyxl\\reader\\excel.py\u001b[0m in \u001b[0;36m_validate_archive\u001b[1;34m(filename)\u001b[0m\n\u001b[0;32m     94\u001b[0m             \u001b[1;32mraise\u001b[0m \u001b[0mInvalidFileException\u001b[0m\u001b[1;33m(\u001b[0m\u001b[0mmsg\u001b[0m\u001b[1;33m)\u001b[0m\u001b[1;33m\u001b[0m\u001b[1;33m\u001b[0m\u001b[0m\n\u001b[0;32m     95\u001b[0m \u001b[1;33m\u001b[0m\u001b[0m\n\u001b[1;32m---> 96\u001b[1;33m     \u001b[0marchive\u001b[0m \u001b[1;33m=\u001b[0m \u001b[0mZipFile\u001b[0m\u001b[1;33m(\u001b[0m\u001b[0mfilename\u001b[0m\u001b[1;33m,\u001b[0m \u001b[1;34m'r'\u001b[0m\u001b[1;33m)\u001b[0m\u001b[1;33m\u001b[0m\u001b[1;33m\u001b[0m\u001b[0m\n\u001b[0m\u001b[0;32m     97\u001b[0m     \u001b[1;32mreturn\u001b[0m \u001b[0marchive\u001b[0m\u001b[1;33m\u001b[0m\u001b[1;33m\u001b[0m\u001b[0m\n\u001b[0;32m     98\u001b[0m \u001b[1;33m\u001b[0m\u001b[0m\n",
      "\u001b[1;32mc:\\users\\dell\\appdata\\local\\programs\\python\\python39\\lib\\zipfile.py\u001b[0m in \u001b[0;36m__init__\u001b[1;34m(self, file, mode, compression, allowZip64, compresslevel, strict_timestamps)\u001b[0m\n\u001b[0;32m   1237\u001b[0m             \u001b[1;32mwhile\u001b[0m \u001b[1;32mTrue\u001b[0m\u001b[1;33m:\u001b[0m\u001b[1;33m\u001b[0m\u001b[1;33m\u001b[0m\u001b[0m\n\u001b[0;32m   1238\u001b[0m                 \u001b[1;32mtry\u001b[0m\u001b[1;33m:\u001b[0m\u001b[1;33m\u001b[0m\u001b[1;33m\u001b[0m\u001b[0m\n\u001b[1;32m-> 1239\u001b[1;33m                     \u001b[0mself\u001b[0m\u001b[1;33m.\u001b[0m\u001b[0mfp\u001b[0m \u001b[1;33m=\u001b[0m \u001b[0mio\u001b[0m\u001b[1;33m.\u001b[0m\u001b[0mopen\u001b[0m\u001b[1;33m(\u001b[0m\u001b[0mfile\u001b[0m\u001b[1;33m,\u001b[0m \u001b[0mfilemode\u001b[0m\u001b[1;33m)\u001b[0m\u001b[1;33m\u001b[0m\u001b[1;33m\u001b[0m\u001b[0m\n\u001b[0m\u001b[0;32m   1240\u001b[0m                 \u001b[1;32mexcept\u001b[0m \u001b[0mOSError\u001b[0m\u001b[1;33m:\u001b[0m\u001b[1;33m\u001b[0m\u001b[1;33m\u001b[0m\u001b[0m\n\u001b[0;32m   1241\u001b[0m                     \u001b[1;32mif\u001b[0m \u001b[0mfilemode\u001b[0m \u001b[1;32min\u001b[0m \u001b[0mmodeDict\u001b[0m\u001b[1;33m:\u001b[0m\u001b[1;33m\u001b[0m\u001b[1;33m\u001b[0m\u001b[0m\n",
      "\u001b[1;31mFileNotFoundError\u001b[0m: [Errno 2] No such file or directory: 'data.xlsx'"
     ]
    }
   ],
   "source": [
    "main()"
   ]
  },
  {
   "cell_type": "code",
   "execution_count": null,
   "metadata": {},
   "outputs": [],
   "source": [
    "import pandas as pd\n",
    "data_xls = pd.read_excel('data.xlsx', 'Sheet1', index_col=None)\n",
    "data_xls.to_csv('data.csv', encoding='utf-8', index=False)"
   ]
  },
  {
   "cell_type": "code",
   "execution_count": null,
   "metadata": {},
   "outputs": [],
   "source": [
    "#importing classes to handle data,to split data into training and testing sets,to visualising of tree and to cheak accuracy of our model\n",
    "from preprocessing import splitter\n",
    "from preprocessing import Encoder\n",
    "from preprocessing import scaler\n",
    "from metrics import matrix\n",
    "from treeVis import vis\n",
    "sp=splitter()\n",
    "mt=matrix()\n",
    "vs=vis()\n",
    "sc=scaler()\n",
    "en=Encoder()"
   ]
  },
  {
   "cell_type": "code",
   "execution_count": null,
   "metadata": {},
   "outputs": [],
   "source": [
    "#importing dataset\n",
    "dataset=pd.read_csv(\"data.csv\")\n",
    "dataset.tail()"
   ]
  },
  {
   "cell_type": "code",
   "execution_count": null,
   "metadata": {},
   "outputs": [],
   "source": [
    "from sklearn.preprocessing import LabelEncoder\n",
    "lab=LabelEncoder()\n",
    "dataset.iloc[:,0]=lab.fit_transform(dataset.iloc[:,0])\n",
    "dataset.iloc[:,1]=lab.fit_transform(dataset.iloc[:,1])\n",
    "dataset.iloc[:,2]=lab.fit_transform(dataset.iloc[:,2])\n",
    "dataset.iloc[:,3]=lab.fit_transform(dataset.iloc[:,3])\n",
    "dataset.iloc[:,4]=lab.fit_transform(dataset.iloc[:,4])\n",
    "dataset.iloc[:,5]=lab.fit_transform(dataset.iloc[:,5])\n",
    "dataset.iloc[:,6]=lab.fit_transform(dataset.iloc[:,6])\n",
    "dataset.iloc[:,7]=lab.fit_transform(dataset.iloc[:,7])\n",
    "dataset.iloc[:,8]=lab.fit_transform(dataset.iloc[:,8])\n",
    "dataset.iloc[:,9]=lab.fit_transform(dataset.iloc[:,9])\n",
    "dataset.iloc[:,10]=lab.fit_transform(dataset.iloc[:,10])\n",
    "\n",
    "dataset.tail()"
   ]
  },
  {
   "cell_type": "code",
   "execution_count": null,
   "metadata": {},
   "outputs": [],
   "source": [
    "#deviding data into dependant and independant sets\n",
    "x = dataset[['Day','Month','Year']]\n",
    "y = dataset['heat']\n",
    "z = dataset['wet']"
   ]
  },
  {
   "cell_type": "code",
   "execution_count": null,
   "metadata": {},
   "outputs": [],
   "source": [
    "#visualising each attribute of dataset using histogram\n",
    "dataset.hist(figsize = (30, 30))\n",
    "plt.savefig(\"dataset.png\")\n",
    "plt.show()"
   ]
  },
  {
   "cell_type": "code",
   "execution_count": null,
   "metadata": {},
   "outputs": [],
   "source": [
    "#deviding data into training and testing sets\n",
    "from sklearn.model_selection import train_test_split\n",
    "x_train,x_test,y_train,y_test=train_test_split(x,y,test_size=0.20,random_state=42)\n",
    "x_train,x_test,z_train,z_test=train_test_split(x,z,test_size=0.20,random_state=42)"
   ]
  },
  {
   "cell_type": "code",
   "execution_count": null,
   "metadata": {},
   "outputs": [],
   "source": [
    "#importing decision tree model and fitting training data to it\n",
    "from sklearn.tree import DecisionTreeClassifier\n",
    "classifier=DecisionTreeClassifier(criterion='entropy',random_state=0)\n",
    "classifier.fit(x,y)\n",
    "\n",
    "classifier_z=DecisionTreeClassifier(criterion='entropy',random_state=0)\n",
    "classifier_z.fit(x,z)"
   ]
  },
  {
   "cell_type": "code",
   "execution_count": null,
   "metadata": {},
   "outputs": [],
   "source": [
    "#predicting values for x_test and compairing result with y_test\n",
    "print(\"Heat:-\")\n",
    "y_pred=classifier.predict(x_test)\n",
    "print(\"predicted values:-\")\n",
    "print(y_pred.astype(int))\n",
    "y_test_arr=np.array(y_test)\n",
    "print(\"original values:-\")\n",
    "print(y_test_arr)\n",
    "\n",
    "#predicting values for x_test and compairing result with y_test\n",
    "print(\"Wet:-\")\n",
    "z_pred=classifier_z.predict(x_test)\n",
    "print(\"predicted values:-\")\n",
    "print(z_pred.astype(int))\n",
    "z_test_arr=np.array(z_test)\n",
    "print(\"original values:-\")\n",
    "print(z_test_arr)"
   ]
  },
  {
   "cell_type": "code",
   "execution_count": null,
   "metadata": {},
   "outputs": [],
   "source": [
    "#cheaking accuracy of our model\n",
    "accuracy=mt.accuracy(y_pred,y_test)\n",
    "print(\"{}%\".format(accuracy*100))\n",
    "\n",
    "accuracy=mt.accuracy(z_pred,z_test)\n",
    "print(\"{}%\".format(accuracy*100))"
   ]
  },
  {
   "cell_type": "code",
   "execution_count": null,
   "metadata": {},
   "outputs": [],
   "source": [
    "\n",
    "import os\n",
    " \n",
    "os.environ[\"PATH\"] += os.pathsep + 'graphviz-2.38/release/bin'"
   ]
  },
  {
   "cell_type": "code",
   "execution_count": null,
   "metadata": {},
   "outputs": [],
   "source": [
    "#tree visualisation\n",
    "\n",
    "vs.dtree_visual(classifier)"
   ]
  },
  {
   "cell_type": "code",
   "execution_count": null,
   "metadata": {},
   "outputs": [],
   "source": [
    "#tree visualisation\n",
    "\n",
    "vs.dtree_visual(classifier_z)"
   ]
  },
  {
   "cell_type": "code",
   "execution_count": null,
   "metadata": {},
   "outputs": [],
   "source": [
    "from datetime import date\n",
    "now = date.today()\n",
    "filepath = \"prediction/forecast-\"+str(now)+\".xlsx\"\n",
    "def prediction():\n",
    "    wb = openpyxl.Workbook()\n",
    "    wb.save(filepath)\n",
    "    print(\"Predict Weather Data \")\n",
    "    idx = 0\n",
    "    weatherdata = {'Day':[],'Month':[],'Year':[],'heat':[],'wet':[]}\n",
    "    filename = filepath\n",
    "    wb = openpyxl.load_workbook(filename=filename)\n",
    "    sheet = wb['Sheet']\n",
    "    new_row = ['Day','Month','Year','Heat','Wet']\n",
    "    sheet.append(new_row)\n",
    "    while idx < 31:\n",
    "        print('Predict weather data '+str(idx))\n",
    "        year = date.today().year\n",
    "        yr = year - 1999\n",
    "        if(date.today().day==31):\n",
    "            year +=1\n",
    "            yr +=1\n",
    "        y_pred=classifier.predict([[idx,0,yr]])\n",
    "        print(y_pred.astype(int))\n",
    "        z_pred=classifier_z.predict([[idx,0,yr]])\n",
    "        print(z_pred.astype(int))\n",
    "        tmp_d = idx+1\n",
    "        tmp_m = 8\n",
    "        tmp_y = year\n",
    "        tmp_h = y_pred.astype(int)\n",
    "        tmp_w = z_pred.astype(int)\n",
    "        if(int(tmp_h)==0):\n",
    "            tmp_h_char = \"NO\"\n",
    "        else:\n",
    "            tmp_h_char = \"YES\"\n",
    "        if(int(tmp_w)==0):\n",
    "            tmp_w_char = \"NO\"\n",
    "        else:\n",
    "            tmp_w_char = \"YES\"    \n",
    "        new_row = [int(tmp_d),int(tmp_m),int(tmp_y),tmp_h_char,tmp_w_char]\n",
    "        sheet.append(new_row)\n",
    "        idx+=1\n",
    "    wb.save(filename)\n",
    "    \n",
    "    print(weatherdata)"
   ]
  },
  {
   "cell_type": "code",
   "execution_count": null,
   "metadata": {},
   "outputs": [],
   "source": [
    "prediction()"
   ]
  },
  {
   "cell_type": "code",
   "execution_count": null,
   "metadata": {},
   "outputs": [],
   "source": [
    "data_xls = pd.read_excel(filepath, 'Sheet', index_col=None)\n",
    "data_xls.to_csv(\"prediction/forecast-\"+str(now)+\".csv\", encoding='utf-8', index=False)"
   ]
  },
  {
   "cell_type": "code",
   "execution_count": null,
   "metadata": {},
   "outputs": [],
   "source": [
    "#importing dataset\n",
    "data_pred=pd.read_csv(\"prediction/forecast-\"+str(now)+\".csv\")\n",
    "data_pred"
   ]
  },
  {
   "cell_type": "code",
   "execution_count": null,
   "metadata": {},
   "outputs": [],
   "source": [
    "import seaborn as sns\n",
    "sns_plot = sns.countplot(x='Heat',data=data_pred)\n",
    "fig = sns_plot.get_figure()\n",
    "fig.savefig(\"prediction/heat_summary_prediction-\"+str(now)+\".png\")"
   ]
  },
  {
   "cell_type": "code",
   "execution_count": null,
   "metadata": {},
   "outputs": [],
   "source": [
    "sns_plot =sns.countplot(x='Wet',data=data_pred)\n",
    "fig = sns_plot.get_figure()\n",
    "fig.savefig(\"prediction/wet_summary_prediction-\"+str(now)+\".png\")"
   ]
  },
  {
   "cell_type": "code",
   "execution_count": null,
   "metadata": {},
   "outputs": [],
   "source": []
  },
  {
   "cell_type": "code",
   "execution_count": null,
   "metadata": {},
   "outputs": [],
   "source": []
  },
  {
   "cell_type": "code",
   "execution_count": null,
   "metadata": {},
   "outputs": [],
   "source": []
  }
 ],
 "metadata": {
  "kernelspec": {
   "display_name": "Python 3 (ipykernel)",
   "language": "python",
   "name": "python3"
  },
  "language_info": {
   "codemirror_mode": {
    "name": "ipython",
    "version": 3
   },
   "file_extension": ".py",
   "mimetype": "text/x-python",
   "name": "python",
   "nbconvert_exporter": "python",
   "pygments_lexer": "ipython3",
   "version": "3.9.6"
  }
 },
 "nbformat": 4,
 "nbformat_minor": 4
}
